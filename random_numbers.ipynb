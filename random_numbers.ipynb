{
 "cells": [
  {
   "cell_type": "markdown",
   "id": "c3136a36",
   "metadata": {},
   "source": [
    "# 6.1.4: Generate Random Latitudes and Longitudes"
   ]
  },
  {
   "cell_type": "markdown",
   "id": "69abfd4e",
   "metadata": {},
   "source": [
    "## The random Module"
   ]
  },
  {
   "cell_type": "code",
   "execution_count": 1,
   "id": "a49d35bf",
   "metadata": {},
   "outputs": [],
   "source": [
    "# Import the random module.\n",
    "import random"
   ]
  },
  {
   "cell_type": "code",
   "execution_count": 7,
   "id": "12ab6e00",
   "metadata": {},
   "outputs": [
    {
     "data": {
      "text/plain": [
       "57"
      ]
     },
     "execution_count": 7,
     "metadata": {},
     "output_type": "execute_result"
    }
   ],
   "source": [
    "lower_limit=-90\n",
    "upper_limit=89\n",
    "random.randint(lower_limit,upper_limit)"
   ]
  },
  {
   "cell_type": "code",
   "execution_count": 4,
   "id": "ccba1968",
   "metadata": {},
   "outputs": [
    {
     "data": {
      "text/plain": [
       "0.2234116112068999"
      ]
     },
     "execution_count": 4,
     "metadata": {},
     "output_type": "execute_result"
    }
   ],
   "source": [
    "random.random()"
   ]
  },
  {
   "cell_type": "code",
   "execution_count": 6,
   "id": "0c6771f2",
   "metadata": {},
   "outputs": [
    {
     "data": {
      "text/plain": [
       "-58.054912711717556"
      ]
     },
     "execution_count": 6,
     "metadata": {},
     "output_type": "execute_result"
    }
   ],
   "source": [
    "random_number=random.randint(lower_limit,upper_limit)+random.random()\n",
    "random_number"
   ]
  },
  {
   "cell_type": "code",
   "execution_count": 8,
   "id": "1e148406",
   "metadata": {},
   "outputs": [],
   "source": [
    "# Generate random latitude\n",
    "lower_limit=-90\n",
    "upper_limit=89\n",
    "x = 1\n",
    "latitudes = []\n",
    "while x < 11:\n",
    "    random_lat = random.randint(lower_limit,upper_limit) + random.random()\n",
    "    latitudes.append(random_lat)\n",
    "    x += 1"
   ]
  },
  {
   "cell_type": "code",
   "execution_count": 9,
   "id": "d0f43f8b",
   "metadata": {},
   "outputs": [
    {
     "data": {
      "text/plain": [
       "[23.904147425816152,\n",
       " 20.7438055623337,\n",
       " 26.16156459908182,\n",
       " -75.39273079959561,\n",
       " -4.024657565994689,\n",
       " 89.96123765803908,\n",
       " 21.80424176036585,\n",
       " -88.51538301555965,\n",
       " -32.04426627598018,\n",
       " 72.2470137133099]"
      ]
     },
     "execution_count": 9,
     "metadata": {},
     "output_type": "execute_result"
    }
   ],
   "source": [
    "latitudes"
   ]
  },
  {
   "cell_type": "code",
   "execution_count": 10,
   "id": "bfc6aee8",
   "metadata": {},
   "outputs": [
    {
     "data": {
      "text/plain": [
       "-25"
      ]
     },
     "execution_count": 10,
     "metadata": {},
     "output_type": "execute_result"
    }
   ],
   "source": [
    "lower_limit=-90\n",
    "upper_limit=90\n",
    "random.randrange(lower_limit,upper_limit, step=1)"
   ]
  },
  {
   "cell_type": "code",
   "execution_count": 11,
   "id": "d82ade49",
   "metadata": {},
   "outputs": [
    {
     "data": {
      "text/plain": [
       "-30"
      ]
     },
     "execution_count": 11,
     "metadata": {},
     "output_type": "execute_result"
    }
   ],
   "source": [
    "lower_limit=-90\n",
    "upper_limit=90\n",
    "random.randrange(lower_limit,upper_limit, step=3)"
   ]
  },
  {
   "cell_type": "code",
   "execution_count": 12,
   "id": "46db6c2b",
   "metadata": {},
   "outputs": [
    {
     "data": {
      "text/plain": [
       "88.05472864157042"
      ]
     },
     "execution_count": 12,
     "metadata": {},
     "output_type": "execute_result"
    }
   ],
   "source": [
    "random.uniform(lower_limit,upper_limit)"
   ]
  },
  {
   "cell_type": "markdown",
   "id": "b0d89fc6",
   "metadata": {},
   "source": [
    "## The NumPy and random Modules"
   ]
  },
  {
   "cell_type": "code",
   "execution_count": 13,
   "id": "b50aff38",
   "metadata": {},
   "outputs": [
    {
     "data": {
      "text/plain": [
       "array([-81.08535636,  -5.22655314,   9.81594144,  75.19806021,\n",
       "        17.36937266,  39.81746121, -39.97308504, -82.33126265,\n",
       "       -54.97665916,  76.586628  , -21.36761912, -82.24505794,\n",
       "        35.21478374, -18.26068096, -43.60352768,  51.797741  ,\n",
       "        51.88553179,  84.96646162,  52.14464682,  57.99506205,\n",
       "       -17.91261815,  23.66526888, -68.29831733,  40.31955477,\n",
       "        72.58602825, -44.21254305,  16.81383081, -47.30088357,\n",
       "       -83.19140372, -23.03785776,  55.19564488,  23.5247031 ,\n",
       "       -53.11394153, -59.91661323, -31.13539678, -50.53330422,\n",
       "        89.60842787, -53.60859373,  39.89588248,  71.42837414,\n",
       "       -37.03560763,  35.65501866,  66.63642474, -51.20907605,\n",
       "         4.48639999, -69.36155808, -71.86297114,  15.59792765,\n",
       "        69.06733038,  78.75205708])"
      ]
     },
     "execution_count": 13,
     "metadata": {},
     "output_type": "execute_result"
    }
   ],
   "source": [
    "# Import the NumPy module.\n",
    "import numpy as np\n",
    "# Import timeit.\n",
    "import timeit"
   ]
  },
  {
   "cell_type": "code",
   "execution_count": 14,
   "id": "3f088e68",
   "metadata": {},
   "outputs": [
    {
     "name": "stdout",
     "output_type": "stream",
     "text": [
      "3.86 µs ± 106 ns per loop (mean ± std. dev. of 7 runs, 100000 loops each)\n"
     ]
    }
   ],
   "source": [
    "# Set parameters\n",
    "lower_limit=-90\n",
    "upper_limit=90\n",
    "no_gen=50\n",
    "\n",
    "# Generate random numbers\n",
    "%timeit np.random.uniform(low=lower_limit, high=upper_limit, size=no_gen)"
   ]
  },
  {
   "cell_type": "code",
   "execution_count": 16,
   "id": "b136009d",
   "metadata": {},
   "outputs": [
    {
     "name": "stdout",
     "output_type": "stream",
     "text": [
      "2.03 ms ± 35.4 µs per loop (mean ± std. dev. of 7 runs, 100 loops each)\n"
     ]
    }
   ],
   "source": [
    "def latitudes(size):\n",
    "    latitudes = []\n",
    "    x = 0\n",
    "    while x < (size):\n",
    "        random_lat = random.randint(lower_limit,upper_limit) + random.random()\n",
    "        latitudes.append(random_lat)\n",
    "        x += 1\n",
    "    return latitudes\n",
    "\n",
    "# Call the function with 1500.\n",
    "%timeit latitudes(1500)"
   ]
  },
  {
   "cell_type": "code",
   "execution_count": null,
   "id": "516f9b53",
   "metadata": {},
   "outputs": [],
   "source": []
  }
 ],
 "metadata": {
  "kernelspec": {
   "display_name": "PythonData",
   "language": "python",
   "name": "pythondata"
  },
  "language_info": {
   "codemirror_mode": {
    "name": "ipython",
    "version": 3
   },
   "file_extension": ".py",
   "mimetype": "text/x-python",
   "name": "python",
   "nbconvert_exporter": "python",
   "pygments_lexer": "ipython3",
   "version": "3.7.13"
  }
 },
 "nbformat": 4,
 "nbformat_minor": 5
}
